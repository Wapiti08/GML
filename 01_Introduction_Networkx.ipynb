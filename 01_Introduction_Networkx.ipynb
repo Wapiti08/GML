{
  "cells": [
    {
      "cell_type": "markdown",
      "metadata": {
        "id": "view-in-github",
        "colab_type": "text"
      },
      "source": [
        "<a href=\"https://colab.research.google.com/github/Wapiti08/GML/blob/main/01_Introduction_Networkx.ipynb\" target=\"_parent\"><img src=\"https://colab.research.google.com/assets/colab-badge.svg\" alt=\"Open In Colab\"/></a>"
      ]
    },
    {
      "cell_type": "markdown",
      "metadata": {
        "id": "h44Tw5U8-80j"
      },
      "source": [
        "## Plot Graphs"
      ]
    },
    {
      "cell_type": "code",
      "execution_count": null,
      "metadata": {
        "id": "Q2ioQA2m-80k"
      },
      "outputs": [],
      "source": [
        "def draw_graph(G, pos_nodes, node_names={}, node_size=50, plot_weight=False):\n",
        "    '''\n",
        "    :param G: the graph object\n",
        "    :param pos_nodes: defined nodes with node and edge\n",
        "\n",
        "    '''\n",
        "\n",
        "    # draw a basic graph\n",
        "    nx.draw(G, pos_nodes, with_labels=False, node_size=node_size, edge_color='gray', arrowsize=30)\n",
        "    \n",
        "    pos_attrs = {}\n",
        "    # \n",
        "    for node, coords in pos_nodes.items():\n",
        "        pos_attrs[node] = (coords[0], coords[1] + 0.08)\n",
        "        \n",
        "    nx.draw_networkx_labels(G, pos_attrs, font_family='serif', font_size=20)\n",
        "    \n",
        "    \n",
        "    if plot_weight:\n",
        "        pos_attrs = {}\n",
        "        for node, coords in pos_nodes.items():\n",
        "            pos_attrs[node] = (coords[0], coords[1] + 0.08)\n",
        "        \n",
        "        nx.draw_networkx_labels(G, pos_attrs, font_family='serif', font_size=20)\n",
        "        edge_labels=dict([((a,b,),d[\"weight\"]) for a,b,d in G.edges(data=True)])\n",
        "        nx.draw_networkx_edge_labels(G, pos_nodes, edge_labels=edge_labels)\n",
        "    \n",
        "    plt.axis('off')\n",
        "    axis = plt.gca()\n",
        "    axis.set_xlim([1.2*x for x in axis.get_xlim()])\n",
        "    axis.set_ylim([1.2*y for y in axis.get_ylim()])"
      ]
    },
    {
      "cell_type": "markdown",
      "metadata": {
        "id": "Ki1Skwz4-80n"
      },
      "source": [
        "## Undirected Graph"
      ]
    },
    {
      "cell_type": "code",
      "execution_count": null,
      "metadata": {
        "colab": {
          "base_uri": "https://localhost:8080/",
          "height": 319
        },
        "id": "eQ9BVeJa-80n",
        "outputId": "d450888f-2ad8-455a-8ecf-16bdeb299b3d"
      },
      "outputs": [
        {
          "output_type": "display_data",
          "data": {
            "image/png": "[encoded data removed]",
            "text/plain": [
              "<Figure size 432x288 with 1 Axes>"
            ]
          },
          "metadata": {}
        }
      ],
      "source": [
        "import numpy as np\n",
        "import pandas as pd\n",
        "import networkx as nx\n",
        "import matplotlib.pyplot as plt\n",
        "\n",
        "G = nx.Graph()\n",
        "V = {'Dublin', 'Paris', 'Milan', 'Rome'}\n",
        "E = [('Milan','Dublin'), ('Milan','Paris'), ('Paris','Dublin'), ('Milan','Rome')]\n",
        "G.add_nodes_from(V)\n",
        "G.add_edges_from(E)\n",
        "draw_graph(G, pos_nodes=nx.shell_layout(G), node_size=500)"
      ]
    },
    {
      "cell_type": "code",
      "execution_count": null,
      "metadata": {
        "colab": {
          "base_uri": "https://localhost:8080/"
        },
        "id": "WDeA6M3p-80p",
        "outputId": "d9145614-955f-4ea6-abd0-9ca6ce39e024"
      },
      "outputs": [
        {
          "output_type": "stream",
          "name": "stdout",
          "text": [
            "V = ['Milan', 'Rome', 'Paris', 'Dublin']\n",
            "E = [('Milan', 'Dublin'), ('Milan', 'Paris'), ('Milan', 'Rome'), ('Paris', 'Dublin')]\n"
          ]
        }
      ],
      "source": [
        "print(f\"V = {G.nodes}\")\n",
        "print(f\"E = {G.edges}\")"
      ]
    },
    {
      "cell_type": "code",
      "execution_count": null,
      "metadata": {
        "colab": {
          "base_uri": "https://localhost:8080/"
        },
        "id": "ImV-32w9-80r",
        "outputId": "5235bce3-df77-41bc-e802-4f75100888af"
      },
      "outputs": [
        {
          "output_type": "execute_result",
          "data": {
            "text/plain": [
              "{1: 'Rome', 2: 'Dublin', 3: 'Milan'}"
            ]
          },
          "metadata": {},
          "execution_count": 4
        }
      ],
      "source": [
        "{G.degree(v): v for v in G.nodes}"
      ]
    },
    {
      "cell_type": "code",
      "execution_count": null,
      "metadata": {
        "scrolled": true,
        "colab": {
          "base_uri": "https://localhost:8080/"
        },
        "id": "gAi9cWRy-80s",
        "outputId": "bd9bf217-1322-4db5-b65c-8893c5b6b92d"
      },
      "outputs": [
        {
          "output_type": "stream",
          "name": "stdout",
          "text": [
            "Graph Order: 4\n",
            "Graph Size: 4\n",
            "Degree for nodes: {'Milan': 3, 'Rome': 1, 'Paris': 2, 'Dublin': 2}\n",
            "Neighbors for nodes: {'Milan': ['Dublin', 'Paris', 'Rome'], 'Rome': ['Milan'], 'Paris': ['Milan', 'Dublin'], 'Dublin': ['Milan', 'Paris']}\n"
          ]
        }
      ],
      "source": [
        "print(f\"Graph Order: {G.number_of_nodes()}\")\n",
        "print(f\"Graph Size: {G.number_of_edges()}\")\n",
        "print(f\"Degree for nodes: { {v: G.degree(v) for v in G.nodes} }\")\n",
        "print(f\"Neighbors for nodes: { {v: list(G.neighbors(v)) for v in G.nodes} }\")"
      ]
    },
    {
      "cell_type": "code",
      "execution_count": null,
      "metadata": {
        "colab": {
          "base_uri": "https://localhost:8080/"
        },
        "id": "AV8qqpdc-80s",
        "outputId": "18003a85-c00c-4b96-8ffb-220f7f9e7ffd"
      },
      "outputs": [
        {
          "output_type": "stream",
          "name": "stdout",
          "text": [
            "Nodes: ['Milan', 'Rome', 'Paris', 'Dublin']\n",
            "Edges: [('Milan', 'Dublin'), ('Milan', 'Paris'), ('Milan', 'Rome'), ('Paris', 'Dublin')]\n"
          ]
        }
      ],
      "source": [
        "ego_graph_milan = nx.ego_graph(G, \"Milan\")\n",
        "print(f\"Nodes: {ego_graph_milan.nodes}\")\n",
        "print(f\"Edges: {ego_graph_milan.edges}\")"
      ]
    },
    {
      "cell_type": "code",
      "execution_count": null,
      "metadata": {
        "colab": {
          "base_uri": "https://localhost:8080/"
        },
        "id": "_tmoQPlk-80t",
        "outputId": "eb39ac4a-039e-46e7-8b71-7054a8d0904e"
      },
      "outputs": [
        {
          "output_type": "stream",
          "name": "stdout",
          "text": [
            "V = ['Milan', 'Rome', 'Paris', 'Dublin', 'Madrid', 'London']\n",
            "E = [('Milan', 'Dublin'), ('Milan', 'Paris'), ('Milan', 'Rome'), ('Rome', 'London'), ('Paris', 'Dublin'), ('Paris', 'Madrid')]\n"
          ]
        }
      ],
      "source": [
        "new_nodes = {'London', 'Madrid'}\n",
        "new_edges = [('London','Rome'), ('Madrid','Paris')]\n",
        "G.add_nodes_from(new_nodes)\n",
        "G.add_edges_from(new_edges)\n",
        "print(f\"V = {G.nodes}\")\n",
        "print(f\"E = {G.edges}\")"
      ]
    },
    {
      "cell_type": "code",
      "execution_count": null,
      "metadata": {
        "colab": {
          "base_uri": "https://localhost:8080/"
        },
        "id": "r5Cj7sNi-80u",
        "outputId": "ffed3234-d551-4535-8805-2d05c395b534"
      },
      "outputs": [
        {
          "output_type": "stream",
          "name": "stdout",
          "text": [
            "V = ['Milan', 'Rome', 'Paris', 'Dublin']\n",
            "E = [('Milan', 'Dublin'), ('Milan', 'Paris'), ('Milan', 'Rome'), ('Paris', 'Dublin')]\n"
          ]
        }
      ],
      "source": [
        "node_remove = {'London', 'Madrid'}\n",
        "G.remove_nodes_from(node_remove)\n",
        "print(f\"V = {G.nodes}\")\n",
        "print(f\"E = {G.edges}\")"
      ]
    },
    {
      "cell_type": "code",
      "execution_count": null,
      "metadata": {
        "colab": {
          "base_uri": "https://localhost:8080/"
        },
        "id": "LVUG4GDg-80v",
        "outputId": "ea669606-31dd-487a-b5ee-a1b91be11291"
      },
      "outputs": [
        {
          "output_type": "stream",
          "name": "stdout",
          "text": [
            "V = ['Milan', 'Rome', 'Paris', 'Dublin']\n",
            "E = [('Milan', 'Rome'), ('Paris', 'Dublin')]\n"
          ]
        }
      ],
      "source": [
        "node_edges = [('Milan','Dublin'), ('Milan','Paris')]\n",
        "G.remove_edges_from(node_edges)\n",
        "print(f\"V = {G.nodes}\")\n",
        "print(f\"E = {G.edges}\")"
      ]
    },
    {
      "cell_type": "code",
      "execution_count": null,
      "metadata": {
        "colab": {
          "base_uri": "https://localhost:8080/"
        },
        "id": "8oM_4Dzq-80w",
        "outputId": "d946a693-af4d-424f-b51f-2e16e92db6df"
      },
      "outputs": [
        {
          "output_type": "stream",
          "name": "stdout",
          "text": [
            "[('Milan', 'Rome', {}), ('Paris', 'Dublin', {})]\n"
          ]
        }
      ],
      "source": [
        "print(nx.to_edgelist(G))"
      ]
    },
    {
      "cell_type": "code",
      "execution_count": null,
      "metadata": {
        "colab": {
          "base_uri": "https://localhost:8080/"
        },
        "id": "DpOhS6Aq-80w",
        "outputId": "664ad171-0c7b-4ad3-e7fa-c00aa754ffad"
      },
      "outputs": [
        {
          "output_type": "stream",
          "name": "stdout",
          "text": [
            "        Milan  Rome  Paris  Dublin\n",
            "Milan     0.0   1.0    0.0     0.0\n",
            "Rome      1.0   0.0    0.0     0.0\n",
            "Paris     0.0   0.0    0.0     1.0\n",
            "Dublin    0.0   0.0    1.0     0.0\n"
          ]
        }
      ],
      "source": [
        "print(nx.to_pandas_adjacency(G))"
      ]
    },
    {
      "cell_type": "markdown",
      "metadata": {
        "id": "2YPs1BXz-80y"
      },
      "source": [
        "## Directed Graph"
      ]
    },
    {
      "cell_type": "code",
      "execution_count": null,
      "metadata": {
        "colab": {
          "base_uri": "https://localhost:8080/"
        },
        "id": "dX_VVNDZ-80y",
        "outputId": "d1dff4b5-7e0e-4bfa-b9a8-3c517c50bd9c"
      },
      "outputs": [
        {
          "output_type": "stream",
          "name": "stdout",
          "text": [
            "  source  target\n",
            "0  Milan  Dublin\n",
            "1  Milan    Rome\n",
            "2  Paris   Milan\n",
            "3  Paris  Dublin\n",
            "        Milan  Rome  Paris  Dublin\n",
            "Milan     0.0   1.0    0.0     1.0\n",
            "Rome      0.0   0.0    0.0     0.0\n",
            "Paris     1.0   0.0    0.0     1.0\n",
            "Dublin    0.0   0.0    0.0     0.0\n"
          ]
        }
      ],
      "source": [
        "import networkx as nx\n",
        "# define an object\n",
        "G = nx.DiGraph()\n",
        "V = {'Dublin', 'Paris', 'Milan', 'Rome'}\n",
        "E = [('Milan','Dublin'), ('Paris','Milan'), ('Paris','Dublin'), ('Milan','Rome')]\n",
        "G.add_nodes_from(V)\n",
        "G.add_edges_from(E)\n",
        "print(nx.to_pandas_edgelist(G))\n",
        "print(nx.to_pandas_adjacency(G))"
      ]
    },
    {
      "cell_type": "code",
      "execution_count": null,
      "metadata": {
        "colab": {
          "base_uri": "https://localhost:8080/"
        },
        "id": "hieVrxr1-80z",
        "outputId": "2674ff1f-20a3-4a28-e2c3-4af168b48521"
      },
      "outputs": [
        {
          "output_type": "stream",
          "name": "stdout",
          "text": [
            "Indegree for nodes: {'Milan': 1, 'Rome': 1, 'Paris': 0, 'Dublin': 2}\n",
            "Outegree for nodes: {'Milan': 2, 'Rome': 0, 'Paris': 2, 'Dublin': 0}\n"
          ]
        }
      ],
      "source": [
        "print(f\"Indegree for nodes: { {v: G.in_degree(v) for v in G.nodes} }\")\n",
        "print(f\"Outegree for nodes: { {v: G.out_degree(v) for v in G.nodes} }\")"
      ]
    },
    {
      "cell_type": "code",
      "execution_count": null,
      "metadata": {
        "colab": {
          "base_uri": "https://localhost:8080/",
          "height": 319
        },
        "id": "jUiAIY4m-80z",
        "outputId": "d48683de-97b4-43ae-cf7e-1607cc504668"
      },
      "outputs": [
        {
          "output_type": "display_data",
          "data": {
            "image/png": "[encoded data removed]",
            "text/plain": [
              "<Figure size 432x288 with 1 Axes>"
            ]
          },
          "metadata": {}
        }
      ],
      "source": [
        "draw_graph(G, pos_nodes=nx.shell_layout(G), node_size=500)"
      ]
    },
    {
      "cell_type": "markdown",
      "metadata": {
        "id": "NqEgnd9E-800"
      },
      "source": [
        "## Weighted Directed Graph"
      ]
    },
    {
      "cell_type": "code",
      "execution_count": null,
      "metadata": {
        "colab": {
          "base_uri": "https://localhost:8080/",
          "height": 501
        },
        "id": "8jFPcMvo-800",
        "outputId": "833792e5-1af0-4f8c-97bd-edd3d2ee33a8"
      },
      "outputs": [
        {
          "output_type": "stream",
          "name": "stdout",
          "text": [
            "  source  target  weight\n",
            "0  Milan    Rome       5\n",
            "1  Milan  Dublin      19\n",
            "2  Paris  Dublin      11\n",
            "3  Paris   Milan       8\n",
            "        Milan  Rome  Paris  Dublin\n",
            "Milan     0.0   5.0    0.0    19.0\n",
            "Rome      0.0   0.0    0.0     0.0\n",
            "Paris     8.0   0.0    0.0    11.0\n",
            "Dublin    0.0   0.0    0.0     0.0\n"
          ]
        },
        {
          "output_type": "display_data",
          "data": {
            "image/png": "[encoded data removed]",
            "text/plain": [
              "<Figure size 432x288 with 1 Axes>"
            ]
          },
          "metadata": {}
        }
      ],
      "source": [
        "import networkx as nx\n",
        "G = nx.MultiDiGraph()\n",
        "V = {'Paris', 'Dublin','Milan', 'Rome'}\n",
        "E = [ ('Paris','Dublin', 11), ('Paris','Milan', 8),\n",
        "     ('Milan','Rome', 5),('Milan','Dublin', 19)]\n",
        "G.add_nodes_from(V)\n",
        "G.add_weighted_edges_from(E)\n",
        "draw_graph(G, pos_nodes=nx.shell_layout(G), node_size=500, plot_weight=True)\n",
        "print(nx.to_pandas_edgelist(G))\n",
        "print(nx.to_pandas_adjacency(G))"
      ]
    },
    {
      "cell_type": "markdown",
      "metadata": {
        "id": "zDn4EV1S-801"
      },
      "source": [
        "## Bipartite Graph"
      ]
    },
    {
      "cell_type": "code",
      "execution_count": null,
      "metadata": {
        "id": "xh6YIAOX-801"
      },
      "outputs": [],
      "source": [
        "n_nodes = 10\n",
        "n_edges = 12\n",
        "bottom_nodes = [ith for ith in range(n_nodes) if ith % 2 ==0]\n",
        "top_nodes = [ith for ith in range(n_nodes) if ith % 2 ==1]\n",
        "iter_edges = zip(\n",
        "    np.random.choice(bottom_nodes, n_edges),  \n",
        "    np.random.choice(top_nodes, n_edges))\n",
        "edges = pd.DataFrame([\n",
        "    {\"source\": a, \"target\": b} for a, b in iter_edges])\n",
        "B = nx.Graph()\n",
        "B.add_nodes_from(bottom_nodes, bipartite=0)\n",
        "B.add_nodes_from(top_nodes, bipartite=1)\n",
        "B.add_edges_from([tuple(x) for x in edges.values])"
      ]
    },
    {
      "cell_type": "code",
      "execution_count": null,
      "metadata": {
        "colab": {
          "base_uri": "https://localhost:8080/",
          "height": 248
        },
        "id": "OgNNmHQF-801",
        "outputId": "c5cf58fa-6d4c-49f7-9608-5552e3d9afec"
      },
      "outputs": [
        {
          "output_type": "display_data",
          "data": {
            "image/png": "[encoded data removed]",
            "text/plain": [
              "<Figure size 432x288 with 1 Axes>"
            ]
          },
          "metadata": {}
        }
      ],
      "source": [
        "from networkx.drawing.layout import bipartite_layout\n",
        "pos = bipartite_layout(B, bottom_nodes)\n",
        "nx.draw_networkx(B, pos=pos)"
      ]
    },
    {
      "cell_type": "markdown",
      "metadata": {
        "id": "dLGPCxoJ-802"
      },
      "source": [
        "## Multi Graph"
      ]
    },
    {
      "cell_type": "code",
      "execution_count": null,
      "metadata": {
        "colab": {
          "base_uri": "https://localhost:8080/",
          "height": 319
        },
        "id": "WXa3nmZj-802",
        "outputId": "d8f1bedc-ef8b-43d8-e81a-8cb26439c2f7"
      },
      "outputs": [
        {
          "output_type": "display_data",
          "data": {
            "image/png": "[encoded data removed]",
            "text/plain": [
              "<Figure size 432x288 with 1 Axes>"
            ]
          },
          "metadata": {}
        }
      ],
      "source": [
        "import networkx as nx\n",
        "directed_multi_graph = nx.MultiDiGraph()\n",
        "V = {'Dublin', 'Paris', 'Milan', 'Rome'}\n",
        "E = [('Milan','Dublin'), ('Milan','Dublin'), ('Paris','Milan'), ('Paris','Dublin'), ('Milan','Rome'), ('Milan','Rome')]\n",
        "directed_multi_graph.add_nodes_from(V)\n",
        "directed_multi_graph.add_edges_from(E)\n",
        "\n",
        "draw_graph(G, pos_nodes=nx.shell_layout(G), node_size=500)"
      ]
    },
    {
      "cell_type": "code",
      "source": [
        ""
      ],
      "metadata": {
        "id": "_La3pMoq_I6h"
      },
      "execution_count": null,
      "outputs": []
    }
  ],
  "metadata": {
    "kernelspec": {
      "display_name": "Python 3",
      "language": "python",
      "name": "python3"
    },
    "language_info": {
      "codemirror_mode": {
        "name": "ipython",
        "version": 3
      },
      "file_extension": ".py",
      "mimetype": "text/x-python",
      "name": "python",
      "nbconvert_exporter": "python",
      "pygments_lexer": "ipython3",
      "version": "3.6.8"
    },
    "colab": {
      "name": "01_Introduction_Networkx.ipynb",
      "provenance": [],
      "collapsed_sections": [],
      "include_colab_link": true
    }
  },
  "nbformat": 4,
  "nbformat_minor": 0
}