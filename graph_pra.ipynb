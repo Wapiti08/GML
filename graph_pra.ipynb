{
 "cells": [
  {
   "cell_type": "code",
   "execution_count": 26,
   "metadata": {},
   "outputs": [
    {
     "name": "stdout",
     "output_type": "stream",
     "text": [
      "{'b': {'weight': 5.0}, 'c': {'weight': 1.0}}\n",
      "{'weight': 5.0}\n",
      "{'weight': 1.0}\n",
      "{'a': {'weight': 5.0}, 'c': {'weight': 3.0}}\n",
      "{'weight': 5.0}\n",
      "{'weight': 3.0}\n",
      "{'b': {'weight': 3.0}, 'a': {'weight': 1.0}, 'd': {'weight': 7.3}}\n",
      "{'weight': 3.0}\n",
      "{'weight': 1.0}\n",
      "{'weight': 7.3}\n",
      "{'c': {'weight': 7.3}}\n",
      "{'weight': 7.3}\n"
     ]
    },
    {
     "data": {
      "image/png": "[encoded data removed]",
      "text/plain": [
       "<Figure size 432x288 with 1 Axes>"
      ]
     },
     "metadata": {},
     "output_type": "display_data"
    }
   ],
   "source": [
    "import networkx as nx\n",
    "\n",
    "# add by single node\n",
    "G = nx.Graph()\n",
    "# G.add_edge(1, 2)\n",
    "# G.add_edge(2, 3, weight=0.9)\n",
    "\n",
    "# # add by multiple nodes\n",
    "# elist = [(1,2), (2,3), (3,4), (4,5)]\n",
    "# G.add_edges_from(elist)\n",
    "# # nx.draw_networkx(G)\n",
    "\n",
    "# for e, datadict in G.edges.items():\n",
    "    # print(type(e))\n",
    "    # print(e)\n",
    "    # print(datadict)\n",
    "    # pass\n",
    "elist_wei = [('a','b',5.0), ('b', 'c', 3.0), ('a', 'c', 1.0), ('c', 'd', 7.3)]\n",
    "G.add_weighted_edges_from(elist_wei)\n",
    "\n",
    "for e, datadict in G.edges.items():\n",
    "    # print(type(e))\n",
    "    # print(e)\n",
    "    # print(datadict)\n",
    "    pass\n",
    "\n",
    "# find the shortest path from x to y\n",
    "# print(nx.dijkstra_path(G, 'a', 'd'))\n",
    "nx.draw_networkx(G, pos=nx.spring_layout(G), node_color='r', edge_color='b')\n",
    "labels = nx.get_edge_attributes(G, 'weight')\n",
    "\n",
    "nx.draw_networkx_edge_labels(G, pos=nx.spring_layout(G), edge_labels=labels)\n",
    "for n, nbrsdict in G.adjacency():\n",
    "    print(nbrsdict)\n",
    "    for nbr, eattr in nbrsdict.items():\n",
    "        if \"weight\" in eattr:\n",
    "            print(eattr)\n"
   ]
  },
  {
   "cell_type": "code",
   "execution_count": null,
   "metadata": {},
   "outputs": [],
   "source": [
    "\n",
    "# draw the graphs\n",
    "import matplotlib.pyplot as plt\n",
    "\n",
    "G = nx.cubical_graph()\n",
    "subax1 = plt.subplot(121)\n",
    "nx.draw(G)\n",
    "\n",
    "subax2 = plt.subplot(122)\n",
    "nx.draw(G, pos=nx.circular_layout(G), node_color='r', edge_color='b')"
   ]
  },
  {
   "cell_type": "code",
   "execution_count": 10,
   "metadata": {},
   "outputs": [
    {
     "name": "stdout",
     "output_type": "stream",
     "text": [
      "red\n",
      "300\n"
     ]
    },
    {
     "data": {
      "image/png": "[encoded data removed]",
      "text/plain": [
       "<Figure size 432x288 with 1 Axes>"
      ]
     },
     "metadata": {},
     "output_type": "display_data"
    }
   ],
   "source": [
    "# dict manipulations\n",
    "\n",
    "G = nx.Graph()\n",
    "G.add_edge(1, 2, color='red', weights=0.84, size=300)\n",
    "\n",
    "nx.draw(G)\n",
    "print(G.edges[1,2]['color'])\n",
    "print(G[1][2]['size'])"
   ]
  },
  {
   "cell_type": "code",
   "execution_count": null,
   "metadata": {},
   "outputs": [],
   "source": []
  }
 ],
 "metadata": {
  "interpreter": {
   "hash": "8fecd871876602184e2def9d040398806a20c493ba8c7291bbd5a5358628e6cd"
  },
  "kernelspec": {
   "display_name": "Python 3.8.1 64-bit",
   "language": "python",
   "name": "python3"
  },
  "language_info": {
   "codemirror_mode": {
    "name": "ipython",
    "version": 3
   },
   "file_extension": ".py",
   "mimetype": "text/x-python",
   "name": "python",
   "nbconvert_exporter": "python",
   "pygments_lexer": "ipython3",
   "version": "3.8.1"
  },
  "orig_nbformat": 4
 },
 "nbformat": 4,
 "nbformat_minor": 2
}
