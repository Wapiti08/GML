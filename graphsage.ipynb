{
  "nbformat": 4,
  "nbformat_minor": 0,
  "metadata": {
    "colab": {
      "name": "graphsage.ipynb",
      "provenance": [],
      "collapsed_sections": [],
      "authorship_tag": "ABX9TyOwmYiFJw8o7M4VrCqbklGE",
      "include_colab_link": true
    },
    "kernelspec": {
      "name": "python3",
      "display_name": "Python 3"
    },
    "language_info": {
      "name": "python"
    }
  },
  "cells": [
    {
      "cell_type": "markdown",
      "metadata": {
        "id": "view-in-github",
        "colab_type": "text"
      },
      "source": [
        "<a href=\"https://colab.research.google.com/github/Wapiti08/GML/blob/main/graphsage.ipynb\" target=\"_parent\"><img src=\"https://colab.research.google.com/assets/colab-badge.svg\" alt=\"Open In Colab\"/></a>"
      ]
    },
    {
      "cell_type": "code",
      "source": [
        "!pip3 install stellargraph==1.2.1"
      ],
      "metadata": {
        "colab": {
          "base_uri": "https://localhost:8080/"
        },
        "id": "8A-D5xwLO1TM",
        "outputId": "dd985d00-4ec3-4d2f-b2a6-1406f6c8df47"
      },
      "execution_count": 1,
      "outputs": [
        {
          "output_type": "stream",
          "name": "stdout",
          "text": [
            "Collecting stellargraph==1.2.1\n",
            "  Downloading stellargraph-1.2.1-py3-none-any.whl (435 kB)\n",
            "\u001b[?25l\r\u001b[K     |▊                               | 10 kB 21.1 MB/s eta 0:00:01\r\u001b[K     |█▌                              | 20 kB 25.8 MB/s eta 0:00:01\r\u001b[K     |██▎                             | 30 kB 14.2 MB/s eta 0:00:01\r\u001b[K     |███                             | 40 kB 6.1 MB/s eta 0:00:01\r\u001b[K     |███▊                            | 51 kB 5.6 MB/s eta 0:00:01\r\u001b[K     |████▌                           | 61 kB 6.7 MB/s eta 0:00:01\r\u001b[K     |█████▎                          | 71 kB 7.2 MB/s eta 0:00:01\r\u001b[K     |██████                          | 81 kB 5.6 MB/s eta 0:00:01\r\u001b[K     |██████▊                         | 92 kB 6.2 MB/s eta 0:00:01\r\u001b[K     |███████▌                        | 102 kB 6.9 MB/s eta 0:00:01\r\u001b[K     |████████▎                       | 112 kB 6.9 MB/s eta 0:00:01\r\u001b[K     |█████████                       | 122 kB 6.9 MB/s eta 0:00:01\r\u001b[K     |█████████▉                      | 133 kB 6.9 MB/s eta 0:00:01\r\u001b[K     |██████████▌                     | 143 kB 6.9 MB/s eta 0:00:01\r\u001b[K     |███████████▎                    | 153 kB 6.9 MB/s eta 0:00:01\r\u001b[K     |████████████                    | 163 kB 6.9 MB/s eta 0:00:01\r\u001b[K     |████████████▉                   | 174 kB 6.9 MB/s eta 0:00:01\r\u001b[K     |█████████████▌                  | 184 kB 6.9 MB/s eta 0:00:01\r\u001b[K     |██████████████▎                 | 194 kB 6.9 MB/s eta 0:00:01\r\u001b[K     |███████████████                 | 204 kB 6.9 MB/s eta 0:00:01\r\u001b[K     |███████████████▉                | 215 kB 6.9 MB/s eta 0:00:01\r\u001b[K     |████████████████▋               | 225 kB 6.9 MB/s eta 0:00:01\r\u001b[K     |█████████████████▎              | 235 kB 6.9 MB/s eta 0:00:01\r\u001b[K     |██████████████████              | 245 kB 6.9 MB/s eta 0:00:01\r\u001b[K     |██████████████████▉             | 256 kB 6.9 MB/s eta 0:00:01\r\u001b[K     |███████████████████▋            | 266 kB 6.9 MB/s eta 0:00:01\r\u001b[K     |████████████████████▎           | 276 kB 6.9 MB/s eta 0:00:01\r\u001b[K     |█████████████████████           | 286 kB 6.9 MB/s eta 0:00:01\r\u001b[K     |█████████████████████▉          | 296 kB 6.9 MB/s eta 0:00:01\r\u001b[K     |██████████████████████▋         | 307 kB 6.9 MB/s eta 0:00:01\r\u001b[K     |███████████████████████▍        | 317 kB 6.9 MB/s eta 0:00:01\r\u001b[K     |████████████████████████        | 327 kB 6.9 MB/s eta 0:00:01\r\u001b[K     |████████████████████████▉       | 337 kB 6.9 MB/s eta 0:00:01\r\u001b[K     |█████████████████████████▋      | 348 kB 6.9 MB/s eta 0:00:01\r\u001b[K     |██████████████████████████▍     | 358 kB 6.9 MB/s eta 0:00:01\r\u001b[K     |███████████████████████████     | 368 kB 6.9 MB/s eta 0:00:01\r\u001b[K     |███████████████████████████▉    | 378 kB 6.9 MB/s eta 0:00:01\r\u001b[K     |████████████████████████████▋   | 389 kB 6.9 MB/s eta 0:00:01\r\u001b[K     |█████████████████████████████▍  | 399 kB 6.9 MB/s eta 0:00:01\r\u001b[K     |██████████████████████████████▏ | 409 kB 6.9 MB/s eta 0:00:01\r\u001b[K     |██████████████████████████████▉ | 419 kB 6.9 MB/s eta 0:00:01\r\u001b[K     |███████████████████████████████▋| 430 kB 6.9 MB/s eta 0:00:01\r\u001b[K     |████████████████████████████████| 435 kB 6.9 MB/s \n",
            "\u001b[?25hRequirement already satisfied: tensorflow>=2.1.0 in /usr/local/lib/python3.7/dist-packages (from stellargraph==1.2.1) (2.8.0)\n",
            "Requirement already satisfied: pandas>=0.24 in /usr/local/lib/python3.7/dist-packages (from stellargraph==1.2.1) (1.3.5)\n",
            "Requirement already satisfied: networkx>=2.2 in /usr/local/lib/python3.7/dist-packages (from stellargraph==1.2.1) (2.6.3)\n",
            "Requirement already satisfied: scipy>=1.1.0 in /usr/local/lib/python3.7/dist-packages (from stellargraph==1.2.1) (1.4.1)\n",
            "Requirement already satisfied: gensim>=3.4.0 in /usr/local/lib/python3.7/dist-packages (from stellargraph==1.2.1) (3.6.0)\n",
            "Requirement already satisfied: scikit-learn>=0.20 in /usr/local/lib/python3.7/dist-packages (from stellargraph==1.2.1) (1.0.2)\n",
            "Requirement already satisfied: numpy>=1.14 in /usr/local/lib/python3.7/dist-packages (from stellargraph==1.2.1) (1.21.5)\n",
            "Requirement already satisfied: matplotlib>=2.2 in /usr/local/lib/python3.7/dist-packages (from stellargraph==1.2.1) (3.2.2)\n",
            "Requirement already satisfied: smart-open>=1.2.1 in /usr/local/lib/python3.7/dist-packages (from gensim>=3.4.0->stellargraph==1.2.1) (5.2.1)\n",
            "Requirement already satisfied: six>=1.5.0 in /usr/local/lib/python3.7/dist-packages (from gensim>=3.4.0->stellargraph==1.2.1) (1.15.0)\n",
            "Requirement already satisfied: python-dateutil>=2.1 in /usr/local/lib/python3.7/dist-packages (from matplotlib>=2.2->stellargraph==1.2.1) (2.8.2)\n",
            "Requirement already satisfied: cycler>=0.10 in /usr/local/lib/python3.7/dist-packages (from matplotlib>=2.2->stellargraph==1.2.1) (0.11.0)\n",
            "Requirement already satisfied: pyparsing!=2.0.4,!=2.1.2,!=2.1.6,>=2.0.1 in /usr/local/lib/python3.7/dist-packages (from matplotlib>=2.2->stellargraph==1.2.1) (3.0.7)\n",
            "Requirement already satisfied: kiwisolver>=1.0.1 in /usr/local/lib/python3.7/dist-packages (from matplotlib>=2.2->stellargraph==1.2.1) (1.3.2)\n",
            "Requirement already satisfied: pytz>=2017.3 in /usr/local/lib/python3.7/dist-packages (from pandas>=0.24->stellargraph==1.2.1) (2018.9)\n",
            "Requirement already satisfied: threadpoolctl>=2.0.0 in /usr/local/lib/python3.7/dist-packages (from scikit-learn>=0.20->stellargraph==1.2.1) (3.1.0)\n",
            "Requirement already satisfied: joblib>=0.11 in /usr/local/lib/python3.7/dist-packages (from scikit-learn>=0.20->stellargraph==1.2.1) (1.1.0)\n",
            "Requirement already satisfied: termcolor>=1.1.0 in /usr/local/lib/python3.7/dist-packages (from tensorflow>=2.1.0->stellargraph==1.2.1) (1.1.0)\n",
            "Requirement already satisfied: h5py>=2.9.0 in /usr/local/lib/python3.7/dist-packages (from tensorflow>=2.1.0->stellargraph==1.2.1) (3.1.0)\n",
            "Requirement already satisfied: typing-extensions>=3.6.6 in /usr/local/lib/python3.7/dist-packages (from tensorflow>=2.1.0->stellargraph==1.2.1) (3.10.0.2)\n",
            "Requirement already satisfied: keras<2.9,>=2.8.0rc0 in /usr/local/lib/python3.7/dist-packages (from tensorflow>=2.1.0->stellargraph==1.2.1) (2.8.0)\n",
            "Requirement already satisfied: grpcio<2.0,>=1.24.3 in /usr/local/lib/python3.7/dist-packages (from tensorflow>=2.1.0->stellargraph==1.2.1) (1.43.0)\n",
            "Requirement already satisfied: setuptools in /usr/local/lib/python3.7/dist-packages (from tensorflow>=2.1.0->stellargraph==1.2.1) (57.4.0)\n",
            "Requirement already satisfied: google-pasta>=0.1.1 in /usr/local/lib/python3.7/dist-packages (from tensorflow>=2.1.0->stellargraph==1.2.1) (0.2.0)\n",
            "Requirement already satisfied: keras-preprocessing>=1.1.1 in /usr/local/lib/python3.7/dist-packages (from tensorflow>=2.1.0->stellargraph==1.2.1) (1.1.2)\n",
            "Collecting tf-estimator-nightly==2.8.0.dev2021122109\n",
            "  Downloading tf_estimator_nightly-2.8.0.dev2021122109-py2.py3-none-any.whl (462 kB)\n",
            "\u001b[K     |████████████████████████████████| 462 kB 52.8 MB/s \n",
            "\u001b[?25hRequirement already satisfied: wrapt>=1.11.0 in /usr/local/lib/python3.7/dist-packages (from tensorflow>=2.1.0->stellargraph==1.2.1) (1.13.3)\n",
            "Requirement already satisfied: opt-einsum>=2.3.2 in /usr/local/lib/python3.7/dist-packages (from tensorflow>=2.1.0->stellargraph==1.2.1) (3.3.0)\n",
            "Requirement already satisfied: tensorboard<2.9,>=2.8 in /usr/local/lib/python3.7/dist-packages (from tensorflow>=2.1.0->stellargraph==1.2.1) (2.8.0)\n",
            "Requirement already satisfied: libclang>=9.0.1 in /usr/local/lib/python3.7/dist-packages (from tensorflow>=2.1.0->stellargraph==1.2.1) (13.0.0)\n",
            "Requirement already satisfied: absl-py>=0.4.0 in /usr/local/lib/python3.7/dist-packages (from tensorflow>=2.1.0->stellargraph==1.2.1) (1.0.0)\n",
            "Requirement already satisfied: gast>=0.2.1 in /usr/local/lib/python3.7/dist-packages (from tensorflow>=2.1.0->stellargraph==1.2.1) (0.5.3)\n",
            "Requirement already satisfied: protobuf>=3.9.2 in /usr/local/lib/python3.7/dist-packages (from tensorflow>=2.1.0->stellargraph==1.2.1) (3.17.3)\n",
            "Requirement already satisfied: flatbuffers>=1.12 in /usr/local/lib/python3.7/dist-packages (from tensorflow>=2.1.0->stellargraph==1.2.1) (2.0)\n",
            "Requirement already satisfied: tensorflow-io-gcs-filesystem>=0.23.1 in /usr/local/lib/python3.7/dist-packages (from tensorflow>=2.1.0->stellargraph==1.2.1) (0.24.0)\n",
            "Requirement already satisfied: astunparse>=1.6.0 in /usr/local/lib/python3.7/dist-packages (from tensorflow>=2.1.0->stellargraph==1.2.1) (1.6.3)\n",
            "Requirement already satisfied: wheel<1.0,>=0.23.0 in /usr/local/lib/python3.7/dist-packages (from astunparse>=1.6.0->tensorflow>=2.1.0->stellargraph==1.2.1) (0.37.1)\n",
            "Requirement already satisfied: cached-property in /usr/local/lib/python3.7/dist-packages (from h5py>=2.9.0->tensorflow>=2.1.0->stellargraph==1.2.1) (1.5.2)\n",
            "Requirement already satisfied: requests<3,>=2.21.0 in /usr/local/lib/python3.7/dist-packages (from tensorboard<2.9,>=2.8->tensorflow>=2.1.0->stellargraph==1.2.1) (2.23.0)\n",
            "Requirement already satisfied: tensorboard-plugin-wit>=1.6.0 in /usr/local/lib/python3.7/dist-packages (from tensorboard<2.9,>=2.8->tensorflow>=2.1.0->stellargraph==1.2.1) (1.8.1)\n",
            "Requirement already satisfied: google-auth-oauthlib<0.5,>=0.4.1 in /usr/local/lib/python3.7/dist-packages (from tensorboard<2.9,>=2.8->tensorflow>=2.1.0->stellargraph==1.2.1) (0.4.6)\n",
            "Requirement already satisfied: google-auth<3,>=1.6.3 in /usr/local/lib/python3.7/dist-packages (from tensorboard<2.9,>=2.8->tensorflow>=2.1.0->stellargraph==1.2.1) (1.35.0)\n",
            "Requirement already satisfied: markdown>=2.6.8 in /usr/local/lib/python3.7/dist-packages (from tensorboard<2.9,>=2.8->tensorflow>=2.1.0->stellargraph==1.2.1) (3.3.6)\n",
            "Requirement already satisfied: tensorboard-data-server<0.7.0,>=0.6.0 in /usr/local/lib/python3.7/dist-packages (from tensorboard<2.9,>=2.8->tensorflow>=2.1.0->stellargraph==1.2.1) (0.6.1)\n",
            "Requirement already satisfied: werkzeug>=0.11.15 in /usr/local/lib/python3.7/dist-packages (from tensorboard<2.9,>=2.8->tensorflow>=2.1.0->stellargraph==1.2.1) (1.0.1)\n",
            "Requirement already satisfied: cachetools<5.0,>=2.0.0 in /usr/local/lib/python3.7/dist-packages (from google-auth<3,>=1.6.3->tensorboard<2.9,>=2.8->tensorflow>=2.1.0->stellargraph==1.2.1) (4.2.4)\n",
            "Requirement already satisfied: rsa<5,>=3.1.4 in /usr/local/lib/python3.7/dist-packages (from google-auth<3,>=1.6.3->tensorboard<2.9,>=2.8->tensorflow>=2.1.0->stellargraph==1.2.1) (4.8)\n",
            "Requirement already satisfied: pyasn1-modules>=0.2.1 in /usr/local/lib/python3.7/dist-packages (from google-auth<3,>=1.6.3->tensorboard<2.9,>=2.8->tensorflow>=2.1.0->stellargraph==1.2.1) (0.2.8)\n",
            "Requirement already satisfied: requests-oauthlib>=0.7.0 in /usr/local/lib/python3.7/dist-packages (from google-auth-oauthlib<0.5,>=0.4.1->tensorboard<2.9,>=2.8->tensorflow>=2.1.0->stellargraph==1.2.1) (1.3.1)\n",
            "Requirement already satisfied: importlib-metadata>=4.4 in /usr/local/lib/python3.7/dist-packages (from markdown>=2.6.8->tensorboard<2.9,>=2.8->tensorflow>=2.1.0->stellargraph==1.2.1) (4.11.1)\n",
            "Requirement already satisfied: zipp>=0.5 in /usr/local/lib/python3.7/dist-packages (from importlib-metadata>=4.4->markdown>=2.6.8->tensorboard<2.9,>=2.8->tensorflow>=2.1.0->stellargraph==1.2.1) (3.7.0)\n",
            "Requirement already satisfied: pyasn1<0.5.0,>=0.4.6 in /usr/local/lib/python3.7/dist-packages (from pyasn1-modules>=0.2.1->google-auth<3,>=1.6.3->tensorboard<2.9,>=2.8->tensorflow>=2.1.0->stellargraph==1.2.1) (0.4.8)\n",
            "Requirement already satisfied: chardet<4,>=3.0.2 in /usr/local/lib/python3.7/dist-packages (from requests<3,>=2.21.0->tensorboard<2.9,>=2.8->tensorflow>=2.1.0->stellargraph==1.2.1) (3.0.4)\n",
            "Requirement already satisfied: idna<3,>=2.5 in /usr/local/lib/python3.7/dist-packages (from requests<3,>=2.21.0->tensorboard<2.9,>=2.8->tensorflow>=2.1.0->stellargraph==1.2.1) (2.10)\n",
            "Requirement already satisfied: certifi>=2017.4.17 in /usr/local/lib/python3.7/dist-packages (from requests<3,>=2.21.0->tensorboard<2.9,>=2.8->tensorflow>=2.1.0->stellargraph==1.2.1) (2021.10.8)\n",
            "Requirement already satisfied: urllib3!=1.25.0,!=1.25.1,<1.26,>=1.21.1 in /usr/local/lib/python3.7/dist-packages (from requests<3,>=2.21.0->tensorboard<2.9,>=2.8->tensorflow>=2.1.0->stellargraph==1.2.1) (1.24.3)\n",
            "Requirement already satisfied: oauthlib>=3.0.0 in /usr/local/lib/python3.7/dist-packages (from requests-oauthlib>=0.7.0->google-auth-oauthlib<0.5,>=0.4.1->tensorboard<2.9,>=2.8->tensorflow>=2.1.0->stellargraph==1.2.1) (3.2.0)\n",
            "Installing collected packages: tf-estimator-nightly, stellargraph\n",
            "Successfully installed stellargraph-1.2.1 tf-estimator-nightly-2.8.0.dev2021122109\n"
          ]
        }
      ]
    },
    {
      "cell_type": "code",
      "execution_count": 2,
      "metadata": {
        "id": "p7hisg1sCaEy"
      },
      "outputs": [],
      "source": [
        "from tensorflow import keras\n",
        "import stellargraph as sg\n",
        "from stellargraph import datasets\n",
        "from stellargraph.mapper import GraphSAGELinkGenerator\n",
        "# to split the links\n",
        "from stellargraph.data import EdgeSplitter\n",
        "from stellargraph.layer import GraphSAGE, link_classification"
      ]
    },
    {
      "cell_type": "code",
      "source": [
        "# load the data inside a graph\n",
        "data = datasets.Cora()\n",
        "dataset, _ = data.load(subject_as_feature=True)\n",
        "data.description"
      ],
      "metadata": {
        "colab": {
          "base_uri": "https://localhost:8080/",
          "height": 72
        },
        "id": "nw8hvXwXL9M_",
        "outputId": "23317856-17df-44b1-d236-9a806483da01"
      },
      "execution_count": 3,
      "outputs": [
        {
          "output_type": "execute_result",
          "data": {
            "application/vnd.google.colaboratory.intrinsic+json": {
              "type": "string"
            },
            "text/plain": [
              "'The Cora dataset consists of 2708 scientific publications classified into one of seven classes. The citation network consists of 5429 links. Each publication in the dataset is described by a 0/1-valued word vector indicating the absence/presence of the corresponding word from the dictionary. The dictionary consists of 1433 unique words.'"
            ]
          },
          "metadata": {},
          "execution_count": 3
        }
      ]
    },
    {
      "cell_type": "code",
      "source": [
        "import networkx as nx\n",
        "\n",
        "# split for the test dataset\n",
        "edge_splitter_test = EdgeSplitter(dataset)\n",
        "# return with graph, ids, and labels\n",
        "# put the keep_connected as true to form a connected reducted graph\n",
        "graph_test, graph_ids_test, test_labels = edge_splitter_test.train_test_split(p=0.1, seed=42, keep_connected=True)\n",
        "print(graph_ids_test)\n",
        "print(len(test_labels))\n",
        "# split for train dataset\n",
        "edge_splitter_train = EdgeSplitter(graph_test)\n",
        "graph_train, graph_ids_train, train_labels = edge_splitter_train.train_test_split(p=0.1, seed=42, keep_connected=True)\n",
        "print(graph_ids_train)\n",
        "print(len(train_labels))\n",
        "print(graph_train.info())"
      ],
      "metadata": {
        "colab": {
          "base_uri": "https://localhost:8080/"
        },
        "id": "z9mdubzeQTXw",
        "outputId": "e983d258-8da6-49a7-90ab-6e68070aa946"
      },
      "execution_count": 8,
      "outputs": [
        {
          "output_type": "stream",
          "name": "stdout",
          "text": [
            "** Sampled 542 positive and 542 negative edges. **\n",
            "[[1131270  126793]\n",
            " [  28278     117]\n",
            " [ 206259     117]\n",
            " ...\n",
            " [ 593544 1130680]\n",
            " [1132864  592996]\n",
            " [1128531   12169]]\n",
            "1084\n",
            "** Sampled 488 positive and 488 negative edges. **\n",
            "[[ 642827    3191]\n",
            " [ 134128 1113614]\n",
            " [ 117315  117316]\n",
            " ...\n",
            " [1129367 1121569]\n",
            " [1129106   87363]\n",
            " [  84695    6169]]\n",
            "976\n",
            "StellarGraph: Undirected multigraph\n",
            " Nodes: 2708, Edges: 4399\n",
            "\n",
            " Node types:\n",
            "  paper: [2708]\n",
            "    Features: float32 vector, length 1440\n",
            "    Edge types: paper-cites->paper\n",
            "\n",
            " Edge types:\n",
            "    paper-cites->paper: [4399]\n",
            "        Weights: all 1 (default)\n",
            "        Features: none\n"
          ]
        }
      ]
    },
    {
      "cell_type": "code",
      "source": [
        "# build the GraphSAGE model\n",
        "## define the size of batch, number of layer\n",
        "batch_size = 20\n",
        "epochs = 20\n",
        "# List of number of neighbor node samples per layer -- two-layer model\n",
        "number_samples = [20, 10]\n",
        "\n",
        "# Generate the Graph for train\n",
        "G_train = GraphSAGELinkGenerator(graph_train, batch_size, number_samples)\n",
        "# iter the item, the shuffle can improve the training\n",
        "# flow method to supply the node and target\n",
        "train_data_flow = G_train.flow(graph_ids_train, train_labels, shuffle=True)\n",
        "\n",
        "# Generate the Graph for test\n",
        "G_test = GraphSAGELinkGenerator(graph_test, batch_size, number_samples)\n",
        "test_data_flow = G_test.flow(graph_ids_test, test_labels, shuffle=True)"
      ],
      "metadata": {
        "id": "XEmj2GecSgey"
      },
      "execution_count": 13,
      "outputs": []
    },
    {
      "cell_type": "code",
      "source": [
        "# define the model size --- equals to the number of len(num_samples)\n",
        "layer_sizes = [20, 20]\n",
        "graphsage = GraphSAGE(\n",
        "    layer_sizes=layer_sizes, generator = G_train, bias=True, dropout=0.3 \n",
        ")\n",
        "\n",
        "x_inp, x_out = graphsage.in_out_tensors()\n",
        "\n",
        "# define link prediction layer\n",
        "prediction = link_classification(output_dim=1, output_act='relu', edge_embedding_method='ip')(x_out)"
      ],
      "metadata": {
        "id": "6BkBzwm3tGyE",
        "colab": {
          "base_uri": "https://localhost:8080/"
        },
        "outputId": "e07af750-6d25-4472-a219-62bd142e2b96"
      },
      "execution_count": 21,
      "outputs": [
        {
          "output_type": "stream",
          "name": "stdout",
          "text": [
            "link_classification: using 'ip' method to combine node embeddings into edge embeddings\n"
          ]
        }
      ]
    },
    {
      "cell_type": "code",
      "source": [
        "# stack the GraphSAGE and prediction into keras model\n",
        "model = keras.Model(inputs=x_inp, outputs=prediction)\n",
        "\n",
        "model.compile(\n",
        "    optimizer = keras.optimizers.Adam(lr=0.01),\n",
        "    loss = keras.losses.binary_crossentropy,\n",
        "    metrics = ['acc']\n",
        ")"
      ],
      "metadata": {
        "id": "A-_v-rqTrPPK",
        "colab": {
          "base_uri": "https://localhost:8080/"
        },
        "outputId": "9db80de8-f520-4850-e396-4bd0ddf5bdcf"
      },
      "execution_count": 23,
      "outputs": [
        {
          "output_type": "stream",
          "name": "stderr",
          "text": [
            "/usr/local/lib/python3.7/dist-packages/keras/optimizer_v2/adam.py:105: UserWarning: The `lr` argument is deprecated, use `learning_rate` instead.\n",
            "  super(Adam, self).__init__(name, **kwargs)\n"
          ]
        }
      ]
    },
    {
      "cell_type": "code",
      "source": [
        "# evaluate the model\n",
        "ini_results_train = model.evaluate(train_data_flow)\n",
        "ini_results_test = model.evaluate(test_data_flow)\n",
        "\n",
        "for name, val in zip(model.metrics_names, ini_results_train):\n",
        "  print(\"\\t{}: {:.4f}\".format(name, val))\n",
        "\n",
        "for name, val in zip(model.metrics_names, ini_results_test):\n",
        "  print(\"\\t{}: {:.4f}\".format(name, val))\n"
      ],
      "metadata": {
        "colab": {
          "base_uri": "https://localhost:8080/"
        },
        "id": "IFh4Q29CSDjc",
        "outputId": "43908ebd-f5d4-4878-f696-d0dd5326abef"
      },
      "execution_count": 25,
      "outputs": [
        {
          "output_type": "stream",
          "name": "stdout",
          "text": [
            "49/49 [==============================] - 6s 95ms/step - loss: 0.6718 - acc: 0.5820\n",
            "55/55 [==============================] - 4s 80ms/step - loss: 0.6724 - acc: 0.6098\n",
            "\tloss: 0.6718\n",
            "\tacc: 0.5820\n",
            "\tloss: 0.6724\n",
            "\tacc: 0.6098\n"
          ]
        }
      ]
    },
    {
      "cell_type": "code",
      "source": [
        "history = model.fit(train_data_flow, epochs=epochs, validation_data = test_data_flow, verbose=2)"
      ],
      "metadata": {
        "colab": {
          "base_uri": "https://localhost:8080/"
        },
        "id": "24wE1wcidCSm",
        "outputId": "b86a150d-5676-4196-beed-951f1c6742d6"
      },
      "execution_count": 26,
      "outputs": [
        {
          "output_type": "stream",
          "name": "stdout",
          "text": [
            "Epoch 1/20\n",
            "49/49 - 27s - loss: 0.6382 - acc: 0.7141 - val_loss: 0.6282 - val_acc: 0.7998 - 27s/epoch - 558ms/step\n",
            "Epoch 2/20\n",
            "49/49 - 18s - loss: 0.4150 - acc: 0.8730 - val_loss: 0.5401 - val_acc: 0.8109 - 18s/epoch - 360ms/step\n",
            "Epoch 3/20\n",
            "49/49 - 19s - loss: 0.2677 - acc: 0.9303 - val_loss: 0.4924 - val_acc: 0.8017 - 19s/epoch - 381ms/step\n",
            "Epoch 4/20\n",
            "49/49 - 15s - loss: 0.2006 - acc: 0.9549 - val_loss: 0.6662 - val_acc: 0.7989 - 15s/epoch - 297ms/step\n",
            "Epoch 5/20\n",
            "49/49 - 12s - loss: 0.1622 - acc: 0.9734 - val_loss: 0.7027 - val_acc: 0.8007 - 12s/epoch - 239ms/step\n",
            "Epoch 6/20\n",
            "49/49 - 12s - loss: 0.1393 - acc: 0.9836 - val_loss: 0.7157 - val_acc: 0.8044 - 12s/epoch - 238ms/step\n",
            "Epoch 7/20\n",
            "49/49 - 12s - loss: 0.1398 - acc: 0.9805 - val_loss: 0.7890 - val_acc: 0.8127 - 12s/epoch - 239ms/step\n",
            "Epoch 8/20\n",
            "49/49 - 13s - loss: 0.1126 - acc: 0.9846 - val_loss: 0.7561 - val_acc: 0.7998 - 13s/epoch - 270ms/step\n",
            "Epoch 9/20\n",
            "49/49 - 14s - loss: 0.1015 - acc: 0.9898 - val_loss: 0.8610 - val_acc: 0.8035 - 14s/epoch - 293ms/step\n",
            "Epoch 10/20\n",
            "49/49 - 19s - loss: 0.1111 - acc: 0.9918 - val_loss: 0.7509 - val_acc: 0.8109 - 19s/epoch - 383ms/step\n",
            "Epoch 11/20\n",
            "49/49 - 15s - loss: 0.0929 - acc: 0.9928 - val_loss: 0.8792 - val_acc: 0.8026 - 15s/epoch - 310ms/step\n",
            "Epoch 12/20\n",
            "49/49 - 13s - loss: 0.0839 - acc: 0.9949 - val_loss: 0.8797 - val_acc: 0.8063 - 13s/epoch - 269ms/step\n",
            "Epoch 13/20\n",
            "49/49 - 12s - loss: 0.0880 - acc: 0.9939 - val_loss: 0.9664 - val_acc: 0.8063 - 12s/epoch - 238ms/step\n",
            "Epoch 14/20\n",
            "49/49 - 13s - loss: 0.0798 - acc: 0.9928 - val_loss: 0.9441 - val_acc: 0.7887 - 13s/epoch - 269ms/step\n",
            "Epoch 15/20\n",
            "49/49 - 13s - loss: 0.0821 - acc: 0.9928 - val_loss: 0.8743 - val_acc: 0.7924 - 13s/epoch - 269ms/step\n",
            "Epoch 16/20\n",
            "49/49 - 13s - loss: 0.0784 - acc: 0.9969 - val_loss: 0.8629 - val_acc: 0.8118 - 13s/epoch - 270ms/step\n",
            "Epoch 17/20\n",
            "49/49 - 13s - loss: 0.0762 - acc: 0.9969 - val_loss: 0.9378 - val_acc: 0.7869 - 13s/epoch - 269ms/step\n",
            "Epoch 18/20\n",
            "49/49 - 13s - loss: 0.0739 - acc: 0.9939 - val_loss: 0.9641 - val_acc: 0.7924 - 13s/epoch - 269ms/step\n",
            "Epoch 19/20\n",
            "49/49 - 13s - loss: 0.0761 - acc: 0.9969 - val_loss: 1.0509 - val_acc: 0.8044 - 13s/epoch - 269ms/step\n",
            "Epoch 20/20\n",
            "49/49 - 12s - loss: 0.0722 - acc: 0.9959 - val_loss: 0.9705 - val_acc: 0.8017 - 12s/epoch - 238ms/step\n"
          ]
        }
      ]
    },
    {
      "cell_type": "code",
      "source": [
        "sg.utils.plot_history(history)"
      ],
      "metadata": {
        "colab": {
          "base_uri": "https://localhost:8080/",
          "height": 585
        },
        "id": "QdFIBG1WeRHM",
        "outputId": "0cae959c-b287-430f-b36f-ff6251b03e32"
      },
      "execution_count": 27,
      "outputs": [
        {
          "output_type": "display_data",
          "data": {
            "image/png": "[encoded data removed]",
            "text/plain": [
              "<Figure size 504x576 with 2 Axes>"
            ]
          },
          "metadata": {
            "needs_background": "light"
          }
        }
      ]
    },
    {
      "cell_type": "code",
      "source": [
        "# evaludate the fitted model\n",
        "results_train = model.evaluate(train_data_flow)\n",
        "results_test = model.evaluate(test_data_flow)\n",
        "\n",
        "for name, val in zip(model.metrics_names, results_train):\n",
        "  print(\"\\t{}: {:.4f}\".format(name, val))\n",
        "\n",
        "for name, val in zip(model.metrics_names, results_test):\n",
        "  print(\"\\t{}: {:.4f}\".format(name, val))"
      ],
      "metadata": {
        "colab": {
          "base_uri": "https://localhost:8080/"
        },
        "id": "z6U857hzdnmT",
        "outputId": "eb07ae1a-110d-427d-81f5-e7db3bdae377"
      },
      "execution_count": 28,
      "outputs": [
        {
          "output_type": "stream",
          "name": "stdout",
          "text": [
            "49/49 [==============================] - 5s 100ms/step - loss: 0.0636 - acc: 0.9969\n",
            "55/55 [==============================] - 4s 71ms/step - loss: 0.9371 - acc: 0.8017\n",
            "\tloss: 0.0636\n",
            "\tacc: 0.9969\n",
            "\tloss: 0.9371\n",
            "\tacc: 0.8017\n"
          ]
        }
      ]
    },
    {
      "cell_type": "code",
      "source": [
        "test_data_flow[0]"
      ],
      "metadata": {
        "colab": {
          "base_uri": "https://localhost:8080/"
        },
        "id": "eHAELb0OgTpd",
        "outputId": "3f3f0989-4240-4dd9-81b8-9888ac9faf89"
      },
      "execution_count": 33,
      "outputs": [
        {
          "output_type": "execute_result",
          "data": {
            "text/plain": [
              "([array([[[0., 0., 0., ..., 0., 0., 1.]],\n",
              "  \n",
              "         [[0., 0., 0., ..., 0., 1., 0.]],\n",
              "  \n",
              "         [[0., 0., 0., ..., 0., 1., 0.]],\n",
              "  \n",
              "         ...,\n",
              "  \n",
              "         [[0., 0., 0., ..., 0., 0., 0.]],\n",
              "  \n",
              "         [[0., 0., 0., ..., 0., 1., 0.]],\n",
              "  \n",
              "         [[0., 0., 0., ..., 0., 0., 1.]]], dtype=float32),\n",
              "  array([[[0., 0., 0., ..., 1., 0., 0.]],\n",
              "  \n",
              "         [[0., 0., 1., ..., 0., 0., 0.]],\n",
              "  \n",
              "         [[0., 0., 0., ..., 0., 0., 0.]],\n",
              "  \n",
              "         ...,\n",
              "  \n",
              "         [[0., 0., 0., ..., 0., 0., 0.]],\n",
              "  \n",
              "         [[0., 0., 0., ..., 0., 0., 1.]],\n",
              "  \n",
              "         [[0., 0., 0., ..., 0., 0., 0.]]], dtype=float32),\n",
              "  array([[[0., 0., 0., ..., 0., 0., 1.],\n",
              "          [0., 0., 0., ..., 0., 0., 1.],\n",
              "          [0., 0., 0., ..., 0., 0., 1.],\n",
              "          ...,\n",
              "          [0., 0., 0., ..., 0., 0., 1.],\n",
              "          [0., 0., 0., ..., 0., 0., 1.],\n",
              "          [0., 0., 0., ..., 0., 0., 1.]],\n",
              "  \n",
              "         [[0., 0., 0., ..., 0., 1., 0.],\n",
              "          [0., 0., 0., ..., 0., 0., 0.],\n",
              "          [0., 0., 0., ..., 0., 0., 0.],\n",
              "          ...,\n",
              "          [0., 0., 0., ..., 0., 0., 0.],\n",
              "          [0., 0., 0., ..., 0., 1., 0.],\n",
              "          [0., 0., 0., ..., 0., 1., 0.]],\n",
              "  \n",
              "         [[0., 0., 0., ..., 0., 1., 0.],\n",
              "          [0., 0., 0., ..., 0., 0., 1.],\n",
              "          [0., 0., 0., ..., 0., 1., 0.],\n",
              "          ...,\n",
              "          [0., 0., 0., ..., 0., 1., 0.],\n",
              "          [0., 0., 0., ..., 0., 0., 1.],\n",
              "          [0., 0., 0., ..., 0., 1., 0.]],\n",
              "  \n",
              "         ...,\n",
              "  \n",
              "         [[0., 0., 0., ..., 0., 0., 0.],\n",
              "          [0., 0., 0., ..., 0., 0., 0.],\n",
              "          [0., 0., 0., ..., 0., 0., 0.],\n",
              "          ...,\n",
              "          [0., 0., 0., ..., 0., 0., 0.],\n",
              "          [0., 0., 0., ..., 0., 0., 0.],\n",
              "          [0., 0., 0., ..., 0., 0., 0.]],\n",
              "  \n",
              "         [[0., 0., 0., ..., 0., 1., 0.],\n",
              "          [0., 0., 0., ..., 0., 0., 1.],\n",
              "          [0., 0., 0., ..., 0., 1., 0.],\n",
              "          ...,\n",
              "          [0., 0., 0., ..., 0., 0., 1.],\n",
              "          [0., 0., 0., ..., 0., 1., 0.],\n",
              "          [0., 0., 0., ..., 0., 1., 0.]],\n",
              "  \n",
              "         [[0., 0., 0., ..., 0., 0., 1.],\n",
              "          [0., 0., 0., ..., 0., 0., 1.],\n",
              "          [0., 0., 0., ..., 0., 0., 1.],\n",
              "          ...,\n",
              "          [0., 0., 0., ..., 0., 0., 1.],\n",
              "          [0., 0., 0., ..., 0., 0., 1.],\n",
              "          [0., 0., 0., ..., 0., 0., 1.]]], dtype=float32),\n",
              "  array([[[0., 0., 0., ..., 1., 0., 0.],\n",
              "          [0., 0., 0., ..., 1., 0., 0.],\n",
              "          [0., 0., 0., ..., 1., 0., 0.],\n",
              "          ...,\n",
              "          [0., 0., 0., ..., 1., 0., 0.],\n",
              "          [0., 0., 0., ..., 1., 0., 0.],\n",
              "          [0., 0., 0., ..., 1., 0., 0.]],\n",
              "  \n",
              "         [[0., 0., 1., ..., 1., 0., 0.],\n",
              "          [0., 0., 1., ..., 1., 0., 0.],\n",
              "          [0., 0., 0., ..., 0., 0., 1.],\n",
              "          ...,\n",
              "          [0., 0., 0., ..., 0., 0., 0.],\n",
              "          [0., 0., 0., ..., 0., 0., 0.],\n",
              "          [0., 0., 0., ..., 0., 0., 0.]],\n",
              "  \n",
              "         [[0., 0., 0., ..., 0., 0., 1.],\n",
              "          [0., 0., 0., ..., 0., 0., 1.],\n",
              "          [0., 0., 0., ..., 0., 1., 0.],\n",
              "          ...,\n",
              "          [0., 0., 0., ..., 0., 0., 1.],\n",
              "          [0., 0., 0., ..., 0., 0., 1.],\n",
              "          [0., 0., 0., ..., 0., 0., 1.]],\n",
              "  \n",
              "         ...,\n",
              "  \n",
              "         [[0., 0., 0., ..., 0., 0., 0.],\n",
              "          [0., 0., 0., ..., 0., 0., 0.],\n",
              "          [0., 0., 0., ..., 0., 0., 0.],\n",
              "          ...,\n",
              "          [0., 0., 0., ..., 0., 0., 0.],\n",
              "          [0., 0., 0., ..., 0., 0., 1.],\n",
              "          [0., 0., 0., ..., 0., 0., 0.]],\n",
              "  \n",
              "         [[0., 0., 0., ..., 0., 0., 1.],\n",
              "          [0., 0., 0., ..., 0., 0., 0.],\n",
              "          [0., 0., 0., ..., 0., 0., 1.],\n",
              "          ...,\n",
              "          [0., 0., 0., ..., 0., 0., 0.],\n",
              "          [0., 0., 0., ..., 0., 0., 1.],\n",
              "          [0., 0., 0., ..., 0., 0., 0.]],\n",
              "  \n",
              "         [[0., 0., 0., ..., 0., 0., 0.],\n",
              "          [0., 0., 0., ..., 0., 0., 0.],\n",
              "          [0., 0., 0., ..., 0., 0., 0.],\n",
              "          ...,\n",
              "          [0., 0., 0., ..., 0., 0., 0.],\n",
              "          [0., 0., 0., ..., 0., 0., 0.],\n",
              "          [0., 0., 0., ..., 0., 0., 0.]]], dtype=float32),\n",
              "  array([[[0., 0., 1., ..., 0., 0., 1.],\n",
              "          [0., 0., 0., ..., 0., 0., 1.],\n",
              "          [0., 0., 0., ..., 0., 0., 1.],\n",
              "          ...,\n",
              "          [0., 0., 0., ..., 0., 0., 1.],\n",
              "          [0., 0., 1., ..., 0., 0., 1.],\n",
              "          [0., 0., 0., ..., 0., 0., 1.]],\n",
              "  \n",
              "         [[0., 0., 0., ..., 0., 1., 0.],\n",
              "          [0., 0., 0., ..., 0., 1., 0.],\n",
              "          [0., 0., 0., ..., 0., 1., 0.],\n",
              "          ...,\n",
              "          [0., 0., 0., ..., 0., 1., 0.],\n",
              "          [0., 0., 0., ..., 0., 1., 0.],\n",
              "          [0., 0., 0., ..., 0., 1., 0.]],\n",
              "  \n",
              "         [[0., 0., 0., ..., 0., 1., 0.],\n",
              "          [0., 0., 0., ..., 0., 1., 0.],\n",
              "          [0., 0., 0., ..., 0., 1., 0.],\n",
              "          ...,\n",
              "          [0., 0., 0., ..., 0., 1., 0.],\n",
              "          [0., 0., 0., ..., 0., 1., 0.],\n",
              "          [0., 0., 0., ..., 0., 1., 0.]],\n",
              "  \n",
              "         ...,\n",
              "  \n",
              "         [[0., 0., 0., ..., 0., 0., 0.],\n",
              "          [0., 0., 0., ..., 0., 0., 0.],\n",
              "          [0., 0., 0., ..., 0., 0., 0.],\n",
              "          ...,\n",
              "          [0., 0., 0., ..., 0., 0., 0.],\n",
              "          [0., 0., 0., ..., 0., 0., 0.],\n",
              "          [0., 0., 0., ..., 0., 0., 0.]],\n",
              "  \n",
              "         [[0., 0., 0., ..., 0., 1., 0.],\n",
              "          [0., 0., 0., ..., 0., 1., 0.],\n",
              "          [0., 0., 0., ..., 0., 1., 0.],\n",
              "          ...,\n",
              "          [0., 0., 0., ..., 0., 1., 0.],\n",
              "          [0., 0., 0., ..., 0., 1., 0.],\n",
              "          [0., 0., 0., ..., 0., 1., 0.]],\n",
              "  \n",
              "         [[0., 0., 0., ..., 0., 0., 1.],\n",
              "          [0., 0., 0., ..., 0., 0., 1.],\n",
              "          [0., 0., 0., ..., 0., 0., 1.],\n",
              "          ...,\n",
              "          [0., 0., 0., ..., 0., 0., 1.],\n",
              "          [0., 0., 0., ..., 0., 0., 1.],\n",
              "          [0., 0., 0., ..., 0., 0., 1.]]], dtype=float32),\n",
              "  array([[[0., 0., 0., ..., 1., 0., 0.],\n",
              "          [0., 0., 0., ..., 1., 0., 0.],\n",
              "          [0., 0., 0., ..., 1., 0., 0.],\n",
              "          ...,\n",
              "          [0., 0., 0., ..., 1., 0., 0.],\n",
              "          [0., 0., 0., ..., 0., 0., 0.],\n",
              "          [0., 0., 0., ..., 1., 0., 0.]],\n",
              "  \n",
              "         [[0., 0., 0., ..., 1., 0., 0.],\n",
              "          [0., 0., 0., ..., 0., 0., 0.],\n",
              "          [0., 0., 1., ..., 0., 0., 0.],\n",
              "          ...,\n",
              "          [0., 0., 0., ..., 0., 0., 0.],\n",
              "          [0., 0., 0., ..., 0., 0., 0.],\n",
              "          [0., 0., 0., ..., 0., 0., 0.]],\n",
              "  \n",
              "         [[0., 0., 0., ..., 0., 0., 0.],\n",
              "          [0., 0., 0., ..., 0., 0., 0.],\n",
              "          [0., 0., 0., ..., 0., 0., 0.],\n",
              "          ...,\n",
              "          [0., 0., 0., ..., 0., 0., 0.],\n",
              "          [0., 0., 0., ..., 0., 0., 0.],\n",
              "          [0., 0., 0., ..., 0., 0., 0.]],\n",
              "  \n",
              "         ...,\n",
              "  \n",
              "         [[0., 0., 0., ..., 1., 0., 0.],\n",
              "          [0., 0., 0., ..., 1., 0., 0.],\n",
              "          [0., 0., 0., ..., 1., 0., 0.],\n",
              "          ...,\n",
              "          [0., 0., 0., ..., 0., 0., 0.],\n",
              "          [0., 0., 0., ..., 0., 0., 0.],\n",
              "          [0., 0., 0., ..., 0., 0., 0.]],\n",
              "  \n",
              "         [[0., 0., 0., ..., 0., 0., 0.],\n",
              "          [0., 0., 1., ..., 0., 0., 0.],\n",
              "          [0., 0., 0., ..., 0., 0., 1.],\n",
              "          ...,\n",
              "          [0., 0., 0., ..., 0., 1., 0.],\n",
              "          [0., 0., 0., ..., 0., 0., 1.],\n",
              "          [0., 0., 0., ..., 0., 1., 0.]],\n",
              "  \n",
              "         [[0., 0., 0., ..., 0., 0., 0.],\n",
              "          [0., 0., 0., ..., 0., 0., 0.],\n",
              "          [0., 0., 0., ..., 0., 0., 0.],\n",
              "          ...,\n",
              "          [0., 0., 0., ..., 0., 0., 0.],\n",
              "          [0., 0., 0., ..., 0., 0., 0.],\n",
              "          [0., 0., 0., ..., 0., 0., 0.]]], dtype=float32)],\n",
              " array([0, 0, 0, 0, 1, 0, 0, 1, 1, 1, 1, 0, 0, 0, 0, 1, 0, 1, 0, 0]))"
            ]
          },
          "metadata": {},
          "execution_count": 33
        }
      ]
    },
    {
      "cell_type": "code",
      "source": [
        "model.predict(test_data_flow)"
      ],
      "metadata": {
        "colab": {
          "base_uri": "https://localhost:8080/"
        },
        "id": "uXI15pbEfkgf",
        "outputId": "1c89d8e9-7443-40d7-828a-8ea14a425f3d"
      },
      "execution_count": 31,
      "outputs": [
        {
          "output_type": "execute_result",
          "data": {
            "text/plain": [
              "array([[0.18919586],\n",
              "       [0.85513264],\n",
              "       [0.06113681],\n",
              "       ...,\n",
              "       [0.88171273],\n",
              "       [0.26597494],\n",
              "       [0.8091953 ]], dtype=float32)"
            ]
          },
          "metadata": {},
          "execution_count": 31
        }
      ]
    },
    {
      "cell_type": "code",
      "source": [
        ""
      ],
      "metadata": {
        "id": "brkFhDRGf_Rd"
      },
      "execution_count": null,
      "outputs": []
    }
  ]
}